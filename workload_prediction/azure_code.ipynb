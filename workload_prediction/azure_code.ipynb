{
  "cells": [
    {
      "cell_type": "code",
      "execution_count": 1,
      "metadata": {
        "colab": {
          "base_uri": "https://localhost:8080/"
        },
        "id": "TsyPEpXd2GyA",
        "outputId": "2b35d99b-0e53-4b20-b793-a2a0bebde67a"
      },
      "outputs": [
        {
          "name": "stdout",
          "output_type": "stream",
          "text": [
            "Mounted at /content/drive\n"
          ]
        }
      ],
      "source": [
        "from google.colab import drive\n",
        "drive.mount('/content/drive')\n"
      ]
    },
    {
      "cell_type": "code",
      "execution_count": 4,
      "metadata": {
        "colab": {
          "base_uri": "https://localhost:8080/"
        },
        "id": "M1rBUT98Hk7Z",
        "outputId": "a9cbc498-8466-409d-a46a-a63a49e2d3b4"
      },
      "outputs": [
        {
          "name": "stdout",
          "output_type": "stream",
          "text": [
            "                       h1        h2         h3    cpu_per         h5  mem_per\n",
            "0     2023-12-22 20:30:00    master       301m  15.000000     2557Mi  32.0000\n",
            "1     2023-12-22 20:30:00   worker1       978m  97.000000      473Mi  63.0000\n",
            "2     2023-12-22 20:30:00  worker10        65m   6.000000      584Mi  73.0000\n",
            "3     2023-12-22 20:30:00  worker11        85m   8.000000      579Mi  72.0000\n",
            "4     2023-12-22 20:30:00  worker12        64m   6.000000      517Mi  69.0000\n",
            "...                   ...       ...        ...        ...        ...      ...\n",
            "9025  2023-12-22 22:20:00   worker8       129m  12.000000      577Mi  72.0000\n",
            "9026  2023-12-22 22:20:00   worker9       140m  14.000000      581Mi  73.0000\n",
            "9027  2023-12-22 22:20:00  worker10  <unknown>  10.087508  <unknown>  66.4384\n",
            "9028  2023-12-22 22:20:00   worker4  <unknown>  10.087508  <unknown>  66.4384\n",
            "9029  2023-12-22 22:20:00   worker1  <unknown>  10.087508  <unknown>  66.4384\n",
            "\n",
            "[9030 rows x 6 columns]\n"
          ]
        }
      ],
      "source": [
        "import numpy as np\n",
        "import pandas as pd\n",
        "from tensorflow.keras.models import Sequential\n",
        "from tensorflow.keras.layers import Dense\n",
        "from tensorflow.keras.layers import LSTM\n",
        "\n",
        "file_path = '/content/drive/MyDrive/dataset/named_asure.csv'\n",
        "df = pd.read_csv(file_path)\n",
        "# df = df.sort_values(by=['machine_id', 'time_stamp'])\n",
        "print(df)\n",
        "\n"
      ]
    },
    {
      "cell_type": "code",
      "execution_count": 5,
      "metadata": {
        "id": "hyfQPTXQKtzF"
      },
      "outputs": [],
      "source": [
        "df['cpu_per'] = df['cpu_per'].astype(float)\n",
        "\n",
        "# Display the updated DataFrame\n",
        "\n",
        "df['cpu_per']\n",
        "\n",
        "df1=df.reset_index()['cpu_per']\n",
        "# df1\n"
      ]
    },
    {
      "cell_type": "code",
      "execution_count": 6,
      "metadata": {
        "colab": {
          "base_uri": "https://localhost:8080/"
        },
        "id": "VCo5R0JhKpDw",
        "outputId": "b9946738-0b47-4192-b4bc-c63a2dde3599"
      },
      "outputs": [
        {
          "data": {
            "text/plain": [
              "0       15.000000\n",
              "1       97.000000\n",
              "2        6.000000\n",
              "3        8.000000\n",
              "4        6.000000\n",
              "          ...    \n",
              "9025    12.000000\n",
              "9026    14.000000\n",
              "9027    10.087508\n",
              "9028    10.087508\n",
              "9029    10.087508\n",
              "Name: cpu_per, Length: 9030, dtype: float64"
            ]
          },
          "execution_count": 6,
          "metadata": {},
          "output_type": "execute_result"
        }
      ],
      "source": [
        "df1"
      ]
    },
    {
      "cell_type": "code",
      "execution_count": null,
      "metadata": {
        "id": "iHGitDmHIIpa"
      },
      "outputs": [],
      "source": [
        "from google.colab import drive\n",
        "drive.mount('/content/drive')"
      ]
    },
    {
      "cell_type": "code",
      "execution_count": 7,
      "metadata": {
        "id": "lcfuGRtILduO"
      },
      "outputs": [],
      "source": [
        "from tensorflow.keras.models import Sequential\n",
        "from tensorflow.keras.layers import Bidirectional, LSTM, Dense, GRU\n"
      ]
    },
    {
      "cell_type": "code",
      "execution_count": 16,
      "metadata": {
        "id": "NxiRwMJ5Fqe3"
      },
      "outputs": [],
      "source": [
        "import tensorflow as tf"
      ]
    },
    {
      "cell_type": "code",
      "execution_count": 24,
      "metadata": {
        "colab": {
          "base_uri": "https://localhost:8080/",
          "height": 1000
        },
        "id": "GRm_Br7C138k",
        "outputId": "07b57685-b552-48d1-f01b-8f1b3217ddba"
      },
      "outputs": [
        {
          "name": "stdout",
          "output_type": "stream",
          "text": [
            "(6120, 200)\n",
            "(6120,)\n",
            "(2508, 200)\n",
            "(2508,)\n",
            "Epoch 1/110\n",
            "96/96 [==============================] - 6s 25ms/step - loss: 0.0031 - val_loss: 0.0028\n",
            "Epoch 2/110\n",
            "96/96 [==============================] - 2s 17ms/step - loss: 0.0029 - val_loss: 0.0028\n",
            "Epoch 3/110\n",
            "96/96 [==============================] - 2s 22ms/step - loss: 0.0029 - val_loss: 0.0028\n",
            "Epoch 4/110\n",
            "96/96 [==============================] - 2s 21ms/step - loss: 0.0029 - val_loss: 0.0028\n",
            "Epoch 5/110\n",
            "96/96 [==============================] - 2s 16ms/step - loss: 0.0030 - val_loss: 0.0028\n",
            "Epoch 6/110\n",
            "96/96 [==============================] - 2s 17ms/step - loss: 0.0029 - val_loss: 0.0028\n",
            "Epoch 7/110\n",
            "96/96 [==============================] - 2s 17ms/step - loss: 0.0029 - val_loss: 0.0028\n",
            "Epoch 8/110\n",
            "96/96 [==============================] - 2s 17ms/step - loss: 0.0029 - val_loss: 0.0028\n",
            "Epoch 9/110\n",
            "96/96 [==============================] - 2s 17ms/step - loss: 0.0029 - val_loss: 0.0028\n",
            "Epoch 10/110\n",
            "96/96 [==============================] - 2s 18ms/step - loss: 0.0029 - val_loss: 0.0028\n",
            "Epoch 11/110\n",
            "96/96 [==============================] - 2s 23ms/step - loss: 0.0029 - val_loss: 0.0028\n",
            "Epoch 12/110\n",
            "96/96 [==============================] - 2s 20ms/step - loss: 0.0029 - val_loss: 0.0028\n",
            "Epoch 13/110\n",
            "96/96 [==============================] - 2s 17ms/step - loss: 0.0029 - val_loss: 0.0027\n",
            "Epoch 14/110\n",
            "96/96 [==============================] - 2s 17ms/step - loss: 0.0029 - val_loss: 0.0028\n",
            "Epoch 15/110\n",
            "96/96 [==============================] - 2s 16ms/step - loss: 0.0028 - val_loss: 0.0027\n",
            "Epoch 16/110\n",
            "96/96 [==============================] - 2s 17ms/step - loss: 0.0027 - val_loss: 0.0026\n",
            "Epoch 17/110\n",
            "96/96 [==============================] - 2s 16ms/step - loss: 0.0026 - val_loss: 0.0025\n",
            "Epoch 18/110\n",
            "96/96 [==============================] - 2s 19ms/step - loss: 0.0025 - val_loss: 0.0025\n",
            "Epoch 19/110\n",
            "96/96 [==============================] - 2s 23ms/step - loss: 0.0025 - val_loss: 0.0024\n",
            "Epoch 20/110\n",
            "96/96 [==============================] - 2s 16ms/step - loss: 0.0024 - val_loss: 0.0025\n",
            "Epoch 21/110\n",
            "96/96 [==============================] - 2s 17ms/step - loss: 0.0024 - val_loss: 0.0025\n",
            "Epoch 22/110\n",
            "96/96 [==============================] - 2s 17ms/step - loss: 0.0024 - val_loss: 0.0026\n",
            "Epoch 23/110\n",
            "96/96 [==============================] - 2s 16ms/step - loss: 0.0023 - val_loss: 0.0025\n",
            "Epoch 24/110\n",
            "96/96 [==============================] - 2s 16ms/step - loss: 0.0024 - val_loss: 0.0025\n",
            "Epoch 25/110\n",
            "96/96 [==============================] - 2s 16ms/step - loss: 0.0023 - val_loss: 0.0025\n",
            "Epoch 26/110\n",
            "96/96 [==============================] - 2s 21ms/step - loss: 0.0022 - val_loss: 0.0023\n",
            "Epoch 27/110\n",
            "96/96 [==============================] - 2s 22ms/step - loss: 0.0023 - val_loss: 0.0025\n",
            "Epoch 28/110\n",
            "96/96 [==============================] - 2s 16ms/step - loss: 0.0023 - val_loss: 0.0022\n",
            "Epoch 29/110\n",
            "96/96 [==============================] - 2s 17ms/step - loss: 0.0023 - val_loss: 0.0022\n",
            "Epoch 30/110\n",
            "96/96 [==============================] - 2s 17ms/step - loss: 0.0022 - val_loss: 0.0022\n",
            "Epoch 31/110\n",
            "96/96 [==============================] - 2s 17ms/step - loss: 0.0027 - val_loss: 0.0025\n",
            "Epoch 32/110\n",
            "96/96 [==============================] - 2s 16ms/step - loss: 0.0026 - val_loss: 0.0025\n",
            "Epoch 33/110\n",
            "96/96 [==============================] - 2s 16ms/step - loss: 0.0025 - val_loss: 0.0025\n",
            "Epoch 34/110\n",
            "96/96 [==============================] - 2s 23ms/step - loss: 0.0024 - val_loss: 0.0024\n",
            "Epoch 35/110\n",
            "96/96 [==============================] - 2s 20ms/step - loss: 0.0023 - val_loss: 0.0022\n",
            "Epoch 36/110\n",
            "96/96 [==============================] - 2s 17ms/step - loss: 0.0022 - val_loss: 0.0024\n",
            "Epoch 37/110\n",
            "96/96 [==============================] - 2s 17ms/step - loss: 0.0021 - val_loss: 0.0022\n",
            "Epoch 38/110\n",
            "96/96 [==============================] - 2s 17ms/step - loss: 0.0024 - val_loss: 0.0025\n",
            "Epoch 39/110\n",
            "96/96 [==============================] - 2s 17ms/step - loss: 0.0022 - val_loss: 0.0023\n",
            "Epoch 40/110\n",
            "96/96 [==============================] - 2s 16ms/step - loss: 0.0023 - val_loss: 0.0024\n",
            "Epoch 41/110\n",
            "96/96 [==============================] - 2s 19ms/step - loss: 0.0021 - val_loss: 0.0021\n",
            "Epoch 42/110\n",
            "96/96 [==============================] - 2s 24ms/step - loss: 0.0021 - val_loss: 0.0021\n",
            "Epoch 43/110\n",
            "96/96 [==============================] - 2s 18ms/step - loss: 0.0021 - val_loss: 0.0021\n",
            "Epoch 44/110\n",
            "96/96 [==============================] - 2s 17ms/step - loss: 0.0020 - val_loss: 0.0022\n",
            "Epoch 45/110\n",
            "96/96 [==============================] - 2s 17ms/step - loss: 0.0020 - val_loss: 0.0021\n",
            "Epoch 46/110\n",
            "96/96 [==============================] - 2s 17ms/step - loss: 0.0020 - val_loss: 0.0021\n",
            "Epoch 47/110\n",
            "96/96 [==============================] - 2s 17ms/step - loss: 0.0024 - val_loss: 0.0026\n",
            "Epoch 48/110\n",
            "96/96 [==============================] - 2s 16ms/step - loss: 0.0026 - val_loss: 0.0026\n",
            "Epoch 49/110\n",
            "96/96 [==============================] - 2s 22ms/step - loss: 0.0023 - val_loss: 0.0022\n",
            "Epoch 50/110\n",
            "96/96 [==============================] - 2s 22ms/step - loss: 0.0020 - val_loss: 0.0020\n",
            "Epoch 51/110\n",
            "96/96 [==============================] - 2s 17ms/step - loss: 0.0021 - val_loss: 0.0022\n",
            "Epoch 52/110\n",
            "96/96 [==============================] - 2s 17ms/step - loss: 0.0020 - val_loss: 0.0022\n",
            "Epoch 53/110\n",
            "96/96 [==============================] - 2s 17ms/step - loss: 0.0020 - val_loss: 0.0020\n",
            "Epoch 54/110\n",
            "96/96 [==============================] - 2s 17ms/step - loss: 0.0019 - val_loss: 0.0020\n",
            "Epoch 55/110\n",
            "96/96 [==============================] - 2s 17ms/step - loss: 0.0019 - val_loss: 0.0020\n",
            "Epoch 56/110\n",
            "96/96 [==============================] - 2s 17ms/step - loss: 0.0021 - val_loss: 0.0023\n",
            "Epoch 57/110\n",
            "96/96 [==============================] - 2s 24ms/step - loss: 0.0019 - val_loss: 0.0020\n",
            "Epoch 58/110\n",
            "96/96 [==============================] - 2s 20ms/step - loss: 0.0019 - val_loss: 0.0022\n",
            "Epoch 59/110\n",
            "96/96 [==============================] - 2s 17ms/step - loss: 0.0018 - val_loss: 0.0017\n",
            "Epoch 60/110\n",
            "96/96 [==============================] - 2s 17ms/step - loss: 0.0017 - val_loss: 0.0025\n",
            "Epoch 61/110\n",
            "96/96 [==============================] - 2s 17ms/step - loss: 0.0020 - val_loss: 0.0019\n",
            "Epoch 62/110\n",
            "96/96 [==============================] - 2s 17ms/step - loss: 0.0016 - val_loss: 0.0017\n",
            "Epoch 63/110\n",
            "96/96 [==============================] - 2s 17ms/step - loss: 0.0016 - val_loss: 0.0019\n",
            "Epoch 64/110\n",
            "96/96 [==============================] - 2s 20ms/step - loss: 0.0019 - val_loss: 0.0019\n",
            "Epoch 65/110\n",
            "96/96 [==============================] - 2s 24ms/step - loss: 0.0016 - val_loss: 0.0017\n",
            "Epoch 66/110\n",
            "96/96 [==============================] - 2s 17ms/step - loss: 0.0019 - val_loss: 0.0017\n",
            "Epoch 67/110\n",
            "96/96 [==============================] - 2s 17ms/step - loss: 0.0020 - val_loss: 0.0017\n",
            "Epoch 68/110\n",
            "96/96 [==============================] - 2s 17ms/step - loss: 0.0015 - val_loss: 0.0021\n",
            "Epoch 69/110\n",
            "96/96 [==============================] - 2s 18ms/step - loss: 0.0016 - val_loss: 0.0022\n",
            "Epoch 70/110\n",
            "96/96 [==============================] - 2s 17ms/step - loss: 0.0018 - val_loss: 0.0016\n",
            "Epoch 71/110\n",
            "96/96 [==============================] - 2s 17ms/step - loss: 0.0016 - val_loss: 0.0021\n",
            "Epoch 72/110\n",
            "96/96 [==============================] - 2s 22ms/step - loss: 0.0015 - val_loss: 0.0020\n",
            "Epoch 73/110\n",
            "96/96 [==============================] - 2s 20ms/step - loss: 0.0015 - val_loss: 0.0017\n",
            "Epoch 74/110\n",
            "96/96 [==============================] - 2s 16ms/step - loss: 0.0025 - val_loss: 0.0031\n",
            "Epoch 75/110\n",
            "96/96 [==============================] - 2s 17ms/step - loss: 0.0029 - val_loss: 0.0025\n",
            "Epoch 76/110\n",
            "96/96 [==============================] - 2s 17ms/step - loss: 0.0026 - val_loss: 0.0025\n",
            "Epoch 77/110\n",
            "96/96 [==============================] - 2s 17ms/step - loss: 0.0022 - val_loss: 0.0020\n",
            "Epoch 78/110\n",
            "96/96 [==============================] - 2s 17ms/step - loss: 0.0020 - val_loss: 0.0018\n",
            "Epoch 79/110\n",
            "96/96 [==============================] - 2s 18ms/step - loss: 0.0018 - val_loss: 0.0017\n",
            "Epoch 80/110\n",
            "96/96 [==============================] - 2s 23ms/step - loss: 0.0017 - val_loss: 0.0019\n",
            "Epoch 81/110\n",
            "96/96 [==============================] - 2s 18ms/step - loss: 0.0015 - val_loss: 0.0015\n",
            "Epoch 82/110\n",
            "96/96 [==============================] - 2s 17ms/step - loss: 0.0014 - val_loss: 0.0018\n",
            "Epoch 83/110\n",
            "96/96 [==============================] - 2s 17ms/step - loss: 0.0023 - val_loss: 0.0027\n",
            "Epoch 84/110\n",
            "96/96 [==============================] - 2s 16ms/step - loss: 0.0026 - val_loss: 0.0027\n",
            "Epoch 85/110\n",
            "96/96 [==============================] - 2s 17ms/step - loss: 0.0024 - val_loss: 0.0027\n",
            "Epoch 86/110\n",
            "96/96 [==============================] - 2s 16ms/step - loss: 0.0020 - val_loss: 0.0019\n",
            "Epoch 87/110\n",
            "96/96 [==============================] - 2s 20ms/step - loss: 0.0016 - val_loss: 0.0021\n",
            "Epoch 88/110\n",
            "96/96 [==============================] - 2s 23ms/step - loss: 0.0018 - val_loss: 0.0017\n",
            "Epoch 89/110\n",
            "96/96 [==============================] - 2s 16ms/step - loss: 0.0016 - val_loss: 0.0016\n",
            "Epoch 90/110\n",
            "96/96 [==============================] - 2s 16ms/step - loss: 0.0016 - val_loss: 0.0017\n",
            "Epoch 91/110\n",
            "96/96 [==============================] - 2s 17ms/step - loss: 0.0016 - val_loss: 0.0017\n",
            "Epoch 92/110\n",
            "96/96 [==============================] - 2s 17ms/step - loss: 0.0014 - val_loss: 0.0014\n",
            "Epoch 93/110\n",
            "96/96 [==============================] - 2s 17ms/step - loss: 0.0015 - val_loss: 0.0018\n",
            "Epoch 94/110\n",
            "96/96 [==============================] - 2s 17ms/step - loss: 0.0016 - val_loss: 0.0019\n",
            "Epoch 95/110\n",
            "96/96 [==============================] - 2s 23ms/step - loss: 0.0015 - val_loss: 0.0017\n",
            "Epoch 96/110\n",
            "96/96 [==============================] - 2s 21ms/step - loss: 0.0015 - val_loss: 0.0019\n",
            "Epoch 97/110\n",
            "96/96 [==============================] - 2s 17ms/step - loss: 0.0015 - val_loss: 0.0018\n",
            "Epoch 98/110\n",
            "96/96 [==============================] - 2s 17ms/step - loss: 0.0014 - val_loss: 0.0015\n",
            "Epoch 99/110\n",
            "96/96 [==============================] - 2s 17ms/step - loss: 0.0016 - val_loss: 0.0015\n",
            "Epoch 100/110\n",
            "96/96 [==============================] - 2s 18ms/step - loss: 0.0014 - val_loss: 0.0017\n",
            "Epoch 101/110\n",
            "96/96 [==============================] - 2s 20ms/step - loss: 0.0013 - val_loss: 0.0014\n",
            "Epoch 102/110\n",
            "96/96 [==============================] - 2s 19ms/step - loss: 0.0013 - val_loss: 0.0016\n",
            "Epoch 103/110\n",
            "96/96 [==============================] - 2s 23ms/step - loss: 0.0013 - val_loss: 0.0014\n",
            "Epoch 104/110\n",
            "96/96 [==============================] - 2s 25ms/step - loss: 0.0015 - val_loss: 0.0014\n",
            "Epoch 105/110\n",
            "96/96 [==============================] - 2s 23ms/step - loss: 0.0014 - val_loss: 0.0016\n",
            "Epoch 106/110\n",
            "96/96 [==============================] - 2s 20ms/step - loss: 0.0014 - val_loss: 0.0014\n",
            "Epoch 107/110\n",
            "96/96 [==============================] - 2s 21ms/step - loss: 0.0013 - val_loss: 0.0015\n",
            "Epoch 108/110\n",
            "96/96 [==============================] - 2s 23ms/step - loss: 0.0012 - val_loss: 0.0015\n",
            "Epoch 109/110\n",
            "96/96 [==============================] - 3s 32ms/step - loss: 0.0013 - val_loss: 0.0014\n",
            "Epoch 110/110\n",
            "96/96 [==============================] - 2s 17ms/step - loss: 0.0013 - val_loss: 0.0015\n",
            "192/192 [==============================] - 2s 6ms/step\n",
            "79/79 [==============================] - 1s 6ms/step\n"
          ]
        },
        {
          "data": {
            "image/png": "[encoded data removed]",
            "text/plain": [
              "<Figure size 640x480 with 1 Axes>"
            ]
          },
          "metadata": {},
          "output_type": "display_data"
        }
      ],
      "source": [
        "\n",
        "\n",
        "import matplotlib.pyplot as plt\n",
        "plt.plot(df1)\n",
        "\n",
        "from sklearn.preprocessing import MinMaxScaler\n",
        "scaler=MinMaxScaler(feature_range=(0,1))\n",
        "df1=scaler.fit_transform(np.array(df1).reshape(-1,1))\n",
        "\n",
        "training_size=int(len(df1)*0.70)\n",
        "test_size=len(df1)-training_size\n",
        "train_data,test_data=df1[0:training_size,:],df1[training_size:len(df1),:1]\n",
        "\n",
        "training_size,test_size\n",
        "\n",
        "def create_dataset(dataset, time_step=1):\n",
        "\tdataX, dataY = [], []\n",
        "\tfor i in range(len(dataset)-time_step-1):\n",
        "\t\ta = dataset[i:(i+time_step), 0]   ###i=0, 0,1,2,3-----99   100\n",
        "\t\tdataX.append(a)\n",
        "\t\tdataY.append(dataset[i + time_step, 0])\n",
        "\treturn np.array(dataX), np.array(dataY)\n",
        "\n",
        "window_size = 200 # WINDOW SIZE...\n",
        "X_train, y_train = create_dataset(train_data, window_size)\n",
        "X_test, ytest = create_dataset(test_data, window_size)\n",
        "\n",
        "print(X_train.shape), print(y_train.shape)\n",
        "\n",
        "print(X_test.shape), print(ytest.shape)\n",
        "\n",
        "# reshape input to be [samples, time steps, features] which is required for LSTM\n",
        "X_train =X_train.reshape(X_train.shape[0],X_train.shape[1] , 1)\n",
        "X_test = X_test.reshape(X_test.shape[0],X_test.shape[1] , 1)\n",
        "\n",
        "# model = Sequential()\n",
        "# model.add(GRU(50, return_sequences=True, input_shape=(window_size, 1)))\n",
        "# model.add(GRU(50))\n",
        "# model.add(Dense(1))\n",
        "model = tf.keras.Sequential([\n",
        "    tf.keras.layers.Bidirectional(tf.keras.layers.LSTM(64, return_sequences=True), input_shape=(window_size, 1)),\n",
        "    tf.keras.layers.Bidirectional(tf.keras.layers.LSTM(64)),\n",
        "    tf.keras.layers.Dense(1)\n",
        "])\n",
        "model.compile(loss='mean_squared_error', optimizer='adam')\n",
        "\n",
        "\n",
        "model.fit(X_train,y_train,validation_data=(X_test,ytest),epochs=110,batch_size=64,verbose=1)\n",
        "\n",
        "train_predict=model.predict(X_train)\n",
        "test_predict=model.predict(X_test)\n",
        "\n",
        "import math\n",
        "from sklearn.metrics import mean_squared_error, mean_absolute_error\n",
        "\n",
        "mae_test=mean_absolute_error(ytest,test_predict)\n",
        "rmse_test=math.sqrt(mean_squared_error(ytest,test_predict))\n",
        "\n",
        "train_predict=scaler.inverse_transform(train_predict)\n",
        "test_predict=scaler.inverse_transform(test_predict)\n",
        "\n",
        "\n",
        "\n"
      ]
    },
    {
      "cell_type": "code",
      "execution_count": null,
      "metadata": {
        "colab": {
          "base_uri": "https://localhost:8080/"
        },
        "id": "_7hKH6wPJbjf",
        "outputId": "d9e38a3f-1edd-430d-8a19-381024322590"
      },
      "outputs": [
        {
          "data": {
            "text/plain": [
              "0.019283475212774952"
            ]
          },
          "execution_count": 21,
          "metadata": {},
          "output_type": "execute_result"
        }
      ],
      "source": [
        "mae_test\n"
      ]
    },
    {
      "cell_type": "code",
      "execution_count": null,
      "metadata": {
        "colab": {
          "base_uri": "https://localhost:8080/"
        },
        "id": "X4CdbBSLJbgF",
        "outputId": "8423fae7-a4bb-4d9f-9bb2-3c1d83b7ee25"
      },
      "outputs": [
        {
          "data": {
            "text/plain": [
              "0.09228428815445278"
            ]
          },
          "execution_count": 22,
          "metadata": {},
          "output_type": "execute_result"
        }
      ],
      "source": [
        "rmse_test"
      ]
    },
    {
      "cell_type": "code",
      "execution_count": null,
      "metadata": {
        "colab": {
          "base_uri": "https://localhost:8080/"
        },
        "id": "_NrZQ070Na8z",
        "outputId": "14016448-3c3a-4a7d-b7b2-3c415688d557"
      },
      "outputs": [
        {
          "name": "stdout",
          "output_type": "stream",
          "text": [
            "183/183 [==============================] - 3s 15ms/step\n",
            "75/75 [==============================] - 1s 8ms/step\n",
            "MAE on training set: 0.003933433170671264\n",
            "RMSE on training set: 0.035120219706749174\n",
            "MAE on test set: 0.019283475212774952\n",
            "RMSE on test set: 0.09228428815445278\n"
          ]
        }
      ],
      "source": [
        "train_predict = model.predict(X_train)\n",
        "test_predict = model.predict(X_test)\n",
        "\n",
        "# Inverse Transformations\n",
        "train_predict = scaler.inverse_transform(train_predict)\n",
        "test_predict = scaler.inverse_transform(test_predict)\n",
        "\n",
        "# Calculate MAE and RMSE\n",
        "mae_train = mean_absolute_error(y_train, train_predict)\n",
        "rmse_train = np.sqrt(mean_squared_error(y_train, train_predict))\n",
        "\n",
        "mae_test = mean_absolute_error(ytest, test_predict)\n",
        "rmse_test = np.sqrt(mean_squared_error(ytest, test_predict))\n",
        "\n",
        "print(f'MAE on training set: {mae_train}')\n",
        "print(f'RMSE on training set: {rmse_train}')\n",
        "print(f'MAE on test set: {mae_test}')\n",
        "print(f'RMSE on test set: {rmse_test}')\n"
      ]
    },
    {
      "cell_type": "code",
      "execution_count": 25,
      "metadata": {
        "colab": {
          "base_uri": "https://localhost:8080/"
        },
        "id": "G3hAWfcfJbZl",
        "outputId": "87783a47-3c86-4e6d-cba8-452a20b3de0c"
      },
      "outputs": [
        {
          "name": "stdout",
          "output_type": "stream",
          "text": [
            "Model saved successfully at: /content/drive/MyDrive/dataset/AZURE_Trained_model.h5\n"
          ]
        },
        {
          "name": "stderr",
          "output_type": "stream",
          "text": [
            "/usr/local/lib/python3.10/dist-packages/keras/src/engine/training.py:3103: UserWarning: You are saving your model as an HDF5 file via `model.save()`. This file format is considered legacy. We recommend using instead the native Keras format, e.g. `model.save('my_model.keras')`.\n",
            "  saving_api.save_model(\n"
          ]
        }
      ],
      "source": [
        "# Define the path where you want to save the model\n",
        "model_path = '/content/drive/MyDrive/dataset/AZURE_Trained_model.h5'\n",
        "\n",
        "# Save the model\n",
        "model.save(model_path)\n",
        "\n",
        "print(\"Model saved successfully at:\", model_path)\n"
      ]
    },
    {
      "cell_type": "code",
      "execution_count": null,
      "metadata": {
        "id": "6Z0VKscINlze"
      },
      "outputs": [],
      "source": []
    },
    {
      "cell_type": "code",
      "execution_count": null,
      "metadata": {
        "id": "mBLYcwUYNltp"
      },
      "outputs": [],
      "source": [
        "######################## ASURE PREDICTION #############################################"
      ]
    },
    {
      "cell_type": "code",
      "execution_count": 29,
      "metadata": {
        "colab": {
          "base_uri": "https://localhost:8080/",
          "height": 449
        },
        "id": "fr5zAIWSKVMu",
        "outputId": "b4382e48-c5c8-4a0b-cb63-602e4c41b1fc"
      },
      "outputs": [
        {
          "data": {
            "image/png": "[encoded data removed]",
            "text/plain": [
              "<Figure size 640x480 with 1 Axes>"
            ]
          },
          "metadata": {},
          "output_type": "display_data"
        }
      ],
      "source": [
        "import pandas as pd\n",
        "import numpy as np\n",
        "import matplotlib.pyplot as plt\n",
        "from sklearn.preprocessing import MinMaxScaler\n",
        "from tensorflow.keras.models import load_model\n",
        "\n",
        "# Load the saved model\n",
        "model_path = '/content/drive/MyDrive/dataset/AZURE_Trained_model.h5'\n",
        "model = load_model(model_path)\n",
        "\n",
        "# Load the data\n",
        "file_path = '/content/drive/MyDrive/dataset/named_asure.csv'\n",
        "dfnew = pd.read_csv(file_path)\n",
        "\n",
        "# Preprocess the data\n",
        "dfnew1 = dfnew.reset_index()['cpu_per']\n",
        "scaler = MinMaxScaler(feature_range=(0,1))\n",
        "dfnew1 = scaler.fit_transform(np.array(dfnew1).reshape(-1,1))\n",
        "\n",
        "# Define window size and prepare input data\n",
        "window_size = 200\n",
        "length_data = len(dfnew1)\n",
        "x_input = dfnew1[length_data-window_size:].reshape(1,-1)\n",
        "temp_input = list(x_input[0])\n",
        "lst_output = []\n",
        "\n",
        "# Generate predictions for the next 200 days\n",
        "n_steps = window_size\n",
        "i = 0\n",
        "while(i < 200):\n",
        "    if(len(temp_input) > window_size):\n",
        "        x_input = np.array(temp_input[1:])\n",
        "        x_input = x_input.reshape(1, -1)\n",
        "        x_input = x_input.reshape((1, n_steps, 1))\n",
        "        yhat = model.predict(x_input, verbose=0)\n",
        "        temp_input.extend(yhat[0].tolist())\n",
        "        temp_input = temp_input[1:]\n",
        "        lst_output.extend(yhat.tolist())\n",
        "        i += 1\n",
        "    else:\n",
        "        x_input = x_input.reshape((1, n_steps, 1))\n",
        "        yhat = model.predict(x_input, verbose=0)\n",
        "        temp_input.extend(yhat[0].tolist())\n",
        "        lst_output.extend(yhat.tolist())\n",
        "        i += 1\n",
        "\n",
        "# Prepare for plotting\n",
        "day_new = np.arange(1, window_size + 1)\n",
        "day_pred = np.arange(window_size + 1, window_size + 1 + 200)\n",
        "dfnew1len = len(dfnew1)\n",
        "\n",
        "# Inverse transform the scaled data\n",
        "predicted_data = scaler.inverse_transform(lst_output)\n",
        "\n",
        "# Plotting\n",
        "plt.plot(day_new, scaler.inverse_transform(dfnew1[dfnew1len-window_size:]), label='Original Data')\n",
        "plt.plot(day_pred, predicted_data, color='red', linestyle='-', label='Future Predicted Values')\n",
        "plt.xlabel('No of Values')\n",
        "plt.ylabel('CPU Percentage')\n",
        "plt.legend()\n",
        "plt.show()\n"
      ]
    },
    {
      "cell_type": "code",
      "execution_count": null,
      "metadata": {
        "id": "MZAc4X60Kcx5"
      },
      "outputs": [],
      "source": []
    },
    {
      "cell_type": "code",
      "execution_count": null,
      "metadata": {
        "id": "ueTLASoFKcvf"
      },
      "outputs": [],
      "source": []
    },
    {
      "cell_type": "code",
      "execution_count": null,
      "metadata": {
        "id": "2PWBUjnYKd9H"
      },
      "outputs": [],
      "source": []
    },
    {
      "cell_type": "code",
      "execution_count": null,
      "metadata": {
        "id": "MhBxS2ZwKd6I"
      },
      "outputs": [],
      "source": []
    },
    {
      "cell_type": "code",
      "execution_count": null,
      "metadata": {
        "id": "L8NrBhoAKd3T"
      },
      "outputs": [],
      "source": []
    },
    {
      "cell_type": "code",
      "execution_count": null,
      "metadata": {
        "id": "_-Djmj96Kd0f"
      },
      "outputs": [],
      "source": []
    },
    {
      "cell_type": "code",
      "execution_count": null,
      "metadata": {
        "id": "_NXUMiznKdxr"
      },
      "outputs": [],
      "source": []
    },
    {
      "cell_type": "code",
      "execution_count": null,
      "metadata": {
        "id": "R6VWL-A2KdvB"
      },
      "outputs": [],
      "source": []
    },
    {
      "cell_type": "code",
      "execution_count": null,
      "metadata": {
        "id": "xh4LZKcLKdsY"
      },
      "outputs": [],
      "source": []
    },
    {
      "cell_type": "code",
      "execution_count": null,
      "metadata": {
        "id": "GmmSwHnXNaKq"
      },
      "outputs": [],
      "source": []
    }
  ],
  "metadata": {
    "accelerator": "GPU",
    "colab": {
      "gpuType": "T4",
      "provenance": []
    },
    "kernelspec": {
      "display_name": "Python 3",
      "name": "python3"
    },
    "language_info": {
      "name": "python"
    }
  },
  "nbformat": 4,
  "nbformat_minor": 0
}
